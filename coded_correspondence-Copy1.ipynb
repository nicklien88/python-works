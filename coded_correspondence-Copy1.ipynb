{
 "cells": [
  {
   "cell_type": "code",
   "execution_count": 6,
   "metadata": {},
   "outputs": [
    {
     "name": "stdout",
     "output_type": "stream",
     "text": [
      "hey there! this is an example of a caesar cipher. were you able to decode it? i hope so! send me a message back with the same offset!\n"
     ]
    }
   ],
   "source": [
    "# alphabetic_letters is to help us track the decoding letter when we shift back. \n",
    "alphabetic_letters = \"abcdefghijklmnopqrstuvwxyz\"\n",
    "# the message I want to decode\n",
    "coded_message = \"xuo jxuhu! jxyi yi qd unqcfbu ev q squiqh syfxuh. muhu oek qrbu je tusetu yj? y xefu ie! iudt cu q cuiiqwu rqsa myjx jxu iqcu evviuj!\"\n",
    "decoded_message = \"\"\n",
    "for letter in coded_message:\n",
    "    if letter in alphabetic_letters:\n",
    "        index_letter = alphabetic_letters.find(letter)\n",
    "        index_alphabet = (index_letter + 10) % 26\n",
    "        decoded_message += alphabetic_letters[index_alphabet]\n",
    "    else:\n",
    "        decoded_message += letter\n",
    "\n",
    "print(decoded_message)\n",
    "        \n",
    "        "
   ]
  },
  {
   "cell_type": "code",
   "execution_count": 2,
   "metadata": {},
   "outputs": [
    {
     "name": "stdout",
     "output_type": "stream",
     "text": [
      "jemuhydw wudyki tyitqydi q ruqjud fqjx. yj iuuai huwyedi xyjxuhje kdunfbehut.\n"
     ]
    }
   ],
   "source": [
    "alphabetic_letters = \"abcdefghijklmnopqrstuvwxyz\"\n",
    "original_message = \"Towering genius disdains a beaten path. It seeks regions hitherto unexplored.\"\n",
    "coded_message = \"\"\n",
    "for letter in original_message:\n",
    "    lowercase_l = letter.lower()\n",
    "    if lowercase_l in alphabetic_letters:\n",
    "        index_letter = alphabetic_letters.find(lowercase_l)\n",
    "        index_alphabet = (index_letter - 10 + 26) % 26\n",
    "        coded_message += alphabetic_letters[index_alphabet]\n",
    "    else:\n",
    "        coded_message += lowercase_l\n",
    "\n",
    "print(coded_message)"
   ]
  },
  {
   "cell_type": "code",
   "execution_count": 3,
   "metadata": {},
   "outputs": [],
   "source": [
    "def decoder(message, offset):\n",
    "    alphabetic_letters = \"abcdefghijklmnopqrstuvwxyz\"\n",
    "    decoded_message = \"\"\n",
    "    for letter in message:\n",
    "        if letter in alphabetic_letters:\n",
    "            index_letter = alphabetic_letters.find(letter)\n",
    "            index_alphabet = (index_letter + offset + 26) % 26\n",
    "            decoded_message += alphabetic_letters[index_alphabet]\n",
    "        else:\n",
    "            decoded_message += letter\n",
    "    return decoded_message\n",
    "\n",
    "def coder(message, offset):\n",
    "    alphabetic_letters = \"abcdefghijklmnopqrstuvwxyz\"\n",
    "    coded_message = \"\"\n",
    "    for letter in message:\n",
    "        if letter in alphabetic_letters:\n",
    "            index_letter = alphabetic_letters.find(letter)\n",
    "            index_alphabet = (index_letter + offset + 26) % 26\n",
    "            coded_message += alphabetic_letters[index_alphabet]\n",
    "        else:\n",
    "            coded_message += letter\n",
    "    return coded_message"
   ]
  },
  {
   "cell_type": "code",
   "execution_count": 4,
   "metadata": {},
   "outputs": [
    {
     "name": "stdout",
     "output_type": "stream",
     "text": [
      "the offset for the second message is fourteen.\n",
      "performing multiple caesar ciphers to code your messages is even more secure!\n"
     ]
    }
   ],
   "source": [
    "print(decoder(\"jxu evviuj veh jxu iusedt cuiiqwu yi vekhjuud.\", 10))\n",
    "print(decoder(\"bqdradyuzs ygxfubxq omqemd oubtqde fa oapq kagd yqeemsqe ue qhqz yadq eqogdq!\", 14))"
   ]
  },
  {
   "cell_type": "code",
   "execution_count": 5,
   "metadata": {},
   "outputs": [
    {
     "name": "stdout",
     "output_type": "stream",
     "text": [
      "vhfinmxkl atox kxgwxkxw tee hy maxlx hew vbiaxkl tl hulhexmx. px'ee atox mh kxteer lmxi ni hnk ztfx by px ptgm mh dxxi hnk fxlltzxl ltyx.\n",
      "wigjonylm bupy lyhxylyx uff iz nbymy ifx wcjbylm um ivmifyny. qy'ff bupy ni lyuffs mnyj oj iol augy cz qy quhn ni eyyj iol gymmuaym muzy.\n",
      "xjhkpozmn cvqz mziyzmzy vgg ja ocznz jgy xdkczmn vn jwnjgzoz. rz'gg cvqz oj mzvggt nozk pk jpm bvhz da rz rvio oj fzzk jpm hznnvbzn nvaz.\n",
      "ykilqpano dwra najzanaz whh kb pdaoa khz yeldano wo kxokhapa. sa'hh dwra pk nawhhu opal ql kqn cwia eb sa swjp pk gaal kqn iaoowcao owba.\n",
      "zljmrqbop exsb obkaboba xii lc qebpb lia zfmebop xp lyplibqb. tb'ii exsb ql obxiiv pqbm rm lro dxjb fc tb txkq ql hbbm lro jbppxdbp pxcb.\n",
      "amknsrcpq fytc pclbcpcb yjj md rfcqc mjb agnfcpq yq mzqmjcrc. uc'jj fytc rm pcyjjw qrcn sn msp eykc gd uc uylr rm iccn msp kcqqyecq qydc.\n",
      "bnlotsdqr gzud qdmcdqdc zkk ne sgdrd nkc bhogdqr zr narnkdsd. vd'kk gzud sn qdzkkx rsdo to ntq fzld he vd vzms sn jddo ntq ldrrzfdr rzed.\n",
      "computers have rendered all of these old ciphers as obsolete. we'll have to really step up our game if we want to keep our messages safe.\n",
      "dpnqvufst ibwf sfoefsfe bmm pg uiftf pme djqifst bt pctpmfuf. xf'mm ibwf up sfbmmz tufq vq pvs hbnf jg xf xbou up lffq pvs nfttbhft tbgf.\n",
      "eqorwvgtu jcxg tgpfgtgf cnn qh vjgug qnf ekrjgtu cu qduqngvg. yg'nn jcxg vq tgcnna uvgr wr qwt icog kh yg ycpv vq mggr qwt oguucigu uchg.\n",
      "frpsxwhuv kdyh uhqghuhg doo ri wkhvh rog flskhuv dv revrohwh. zh'oo kdyh wr uhdoob vwhs xs rxu jdph li zh zdqw wr nhhs rxu phvvdjhv vdih.\n",
      "gsqtyxivw lezi virhivih epp sj xliwi sph gmtlivw ew sfwspixi. ai'pp lezi xs vieppc wxit yt syv keqi mj ai aerx xs oiit syv qiwwekiw weji.\n",
      "htruzyjwx mfaj wjsijwji fqq tk ymjxj tqi hnumjwx fx tgxtqjyj. bj'qq mfaj yt wjfqqd xyju zu tzw lfrj nk bj bfsy yt pjju tzw rjxxfljx xfkj.\n",
      "iusvazkxy ngbk xktjkxkj grr ul znkyk urj iovnkxy gy uhyurkzk. ck'rr ngbk zu xkgrre yzkv av uax mgsk ol ck cgtz zu qkkv uax skyygmky yglk.\n",
      "jvtwbalyz ohcl yluklylk hss vm aolzl vsk jpwolyz hz vizvslal. dl'ss ohcl av ylhssf zalw bw vby nhtl pm dl dhua av rllw vby tlzzhnlz zhml.\n",
      "kwuxcbmza pidm zmvlmzml itt wn bpmam wtl kqxpmza ia wjawtmbm. em'tt pidm bw zmittg abmx cx wcz oium qn em eivb bw smmx wcz umaaioma ainm.\n",
      "lxvydcnab qjen anwmnanm juu xo cqnbn xum lryqnab jb xkbxuncn. fn'uu qjen cx anjuuh bcny dy xda pjvn ro fn fjwc cx tnny xda vnbbjpnb bjon.\n",
      "mywzedobc rkfo boxnobon kvv yp droco yvn mszrobc kc ylcyvodo. go'vv rkfo dy bokvvi cdoz ez yeb qkwo sp go gkxd dy uooz yeb wocckqoc ckpo.\n",
      "nzxafepcd slgp cpyopcpo lww zq espdp zwo ntaspcd ld zmdzwpep. hp'ww slgp ez cplwwj depa fa zfc rlxp tq hp hlye ez vppa zfc xpddlrpd dlqp.\n",
      "oaybgfqde tmhq dqzpqdqp mxx ar ftqeq axp oubtqde me aneaxqfq. iq'xx tmhq fa dqmxxk efqb gb agd smyq ur iq imzf fa wqqb agd yqeemsqe emrq.\n",
      "pbzchgref unir eraqrerq nyy bs gurfr byq pvcuref nf bofbyrgr. jr'yy unir gb ernyyl fgrc hc bhe tnzr vs jr jnag gb xrrc bhe zrffntrf fnsr.\n",
      "qcadihsfg vojs fsbrsfsr ozz ct hvsgs czr qwdvsfg og cpgczshs. ks'zz vojs hc fsozzm ghsd id cif uoas wt ks kobh hc yssd cif asggousg gots.\n",
      "rdbejitgh wpkt gtcstgts paa du iwtht das rxewtgh ph dqhdatit. lt'aa wpkt id gtpaan hite je djg vpbt xu lt lpci id ztte djg bthhpvth hput.\n",
      "secfkjuhi xqlu hudtuhut qbb ev jxuiu ebt syfxuhi qi eriebuju. mu'bb xqlu je huqbbo ijuf kf ekh wqcu yv mu mqdj je auuf ekh cuiiqwui iqvu.\n",
      "tfdglkvij yrmv iveuvivu rcc fw kyvjv fcu tzgyvij rj fsjfcvkv. nv'cc yrmv kf ivrccp jkvg lg fli xrdv zw nv nrek kf bvvg fli dvjjrxvj jrwv.\n",
      "ugehmlwjk zsnw jwfvwjwv sdd gx lzwkw gdv uahzwjk sk gtkgdwlw. ow'dd zsnw lg jwsddq klwh mh gmj ysew ax ow osfl lg cwwh gmj ewkksywk ksxw.\n"
     ]
    }
   ],
   "source": [
    "for offset in range(26):\n",
    "    print(decoder(\"vhfinmxkl atox kxgwxkxw tee hy maxlx hew vbiaxkl tl hulhexmx. px'ee atox mh kxteer lmxi ni hnk ztfx by px ptgm mh dxxi hnk fxlltzxl ltyx.\", offset))"
   ]
  },
  {
   "cell_type": "code",
   "execution_count": 28,
   "metadata": {},
   "outputs": [
    {
     "name": "stdout",
     "output_type": "stream",
     "text": [
      "you were able to decode this? nice work! you are becoming quite the expert at crytography!\n"
     ]
    }
   ],
   "source": [
    "def Vigenère_Cipher_decoder(message, keyword):\n",
    "    alphabetic_letters = \"abcdefghijklmnopqrstuvwxyz\"\n",
    "    decoded_message = \"\"\n",
    "    # count the index of the letter without space\n",
    "    index = 0\n",
    "    for letter in message:\n",
    "        if letter in alphabetic_letters:\n",
    "            letter_index = alphabetic_letters.find(letter)\n",
    "            offset = alphabetic_letters.find(keyword[index % len(keyword)])\n",
    "            decoding_letter = alphabetic_letters[(letter_index - offset + 26) % 26]\n",
    "            decoded_message += decoding_letter\n",
    "            index += 1\n",
    "        else:\n",
    "            decoded_message += letter\n",
    "    return decoded_message\n",
    "\n",
    "print(Vigenère_Cipher_decoder(\"dfc aruw fsti gr vjtwhr wznj? vmph otis! cbx swv jipreneo uhllj kpi rahjib eg fjdkwkedhmp!\", \"friends\"))"
   ]
  },
  {
   "cell_type": "code",
   "execution_count": 2,
   "metadata": {},
   "outputs": [
    {
     "name": "stdout",
     "output_type": "stream",
     "text": [
      "v'u iogbkxt jgdgmt\n",
      "um tsra gs uwftvbnp.\n"
     ]
    }
   ],
   "source": [
    "def Vigenère_Cipher_coder(message, keyword):\n",
    "    alphabetic_letters = \"abcdefghijklmnopqrstuvwxyz\"\n",
    "    decoded_message = \"\"\n",
    "    # count the index of the letter without space\n",
    "    index = 0\n",
    "    for letter in message:\n",
    "        if letter in alphabetic_letters:\n",
    "            letter_index = alphabetic_letters.find(letter)\n",
    "            offset = alphabetic_letters.find(keyword[index % len(keyword)])\n",
    "            decoding_letter = alphabetic_letters[(letter_index + offset + 26) % 26]\n",
    "            decoded_message += decoding_letter\n",
    "            index += 1\n",
    "        else:\n",
    "            decoded_message += letter\n",
    "    return decoded_message\n",
    "\n",
    "print(Vigenère_Cipher_coder(\"i'm getting better\", \"nick\"))\n",
    "print(Vigenère_Cipher_coder(\"he goes to hospital.\", \"nine\"))"
   ]
  }
 ],
 "metadata": {
  "kernelspec": {
   "display_name": "Python 3",
   "language": "python",
   "name": "python3"
  },
  "language_info": {
   "codemirror_mode": {
    "name": "ipython",
    "version": 3
   },
   "file_extension": ".py",
   "mimetype": "text/x-python",
   "name": "python",
   "nbconvert_exporter": "python",
   "pygments_lexer": "ipython3",
   "version": "3.7.3"
  }
 },
 "nbformat": 4,
 "nbformat_minor": 2
}
