{
 "cells": [
  {
   "cell_type": "code",
   "execution_count": 8,
   "metadata": {},
   "outputs": [
    {
     "name": "stdout",
     "output_type": "stream",
     "text": [
      "['管理編號', '拍賣日期', '門\\u3000牌', '用途', '樓層別', '建坪', '地坪', '拍賣總價', '執行法院', '案\\u3000號', '拍賣次數', '備\\u3000註']\n",
      "['J014080005', '108.12.31', '其他', '48.40', '257,000', '嘉義地院', '107司執字第44984號', '4', '特別推薦']\n",
      "['J010060003', '108.11.26', '其他', '47.67', '524,400', '彰化地院', '104年度司執字第31985號', '減', '特別推薦']\n",
      "['J241080007', '108.11.06', '其他', '1,516,200', '臺灣士林地方法院民事執行處(委託金服)', '107年度司執春字第68517號', '4', '特別推薦']\n",
      "['J241080006', '108.09.05', '其他', '0', '臺灣士林地方法院民事執行處', '107年度司執春字第68517號', '2', '特別推薦']\n",
      "['J092080002', '108.03.28', '台中市西屯區中工三路89之2號', '其他', '2樓', '52.50', '9.68', '5,760,000', '台中地院', '中院麟民執106司執辰字第110012號', '3', '特別推薦']\n",
      "['J165080001', '108.01.30', '台北市中正區重慶南路3段67之1號及增建部份', '其他', '1', '21.68', '22.08', '81,830,000', '台灣金服', '107北金職一字第11號', '1', '可點交']\n",
      "['J092070006', '107.12.27', '臺中市西屯區中工三路89之2號', '其他', '52.50', '9.68', '8,000,000', '台中地院', '台中地院106年度司執字第110012號', '1']\n",
      "['J165070001', '107.11.16', '新北市新莊區中正路375之1號', '其他', '1', '41.64', '5.90', '9,486,000', '台灣金服', '107板金職四字第150號', '公告應買', '特別推薦', '可點交']\n",
      "['J241070005', '107.06.07', '其他', '3,541,600', '臺灣士林地方法院民事執行處', '106年度司執春字第52191號', '3', '特別推薦']\n",
      "['J241070003', '107.04.19', '其他', '4,332,000', '臺灣士林地方法院民事執行處', '106年度司執春字第52191號', '2', '特別推薦']\n",
      "{'type': 'submit', 'name': 'lblNextoneBottom', 'value': '下一頁', 'id': 'lblNextoneBottom'}\n",
      "['管理編號', '拍賣日期', '門\\u3000牌', '用途', '樓層別', '建坪', '地坪', '拍賣總價', '執行法院', '案\\u3000號', '拍賣次數', '備\\u3000註']\n",
      "['J241070004', '107.03.30', '其他', '0', '臺灣士林地方法院民事執行處', '106年度司執春字第52191號', '2', '特別推薦']\n",
      "['J241070001', '107.03.08', '其他', '5,320,000', '臺灣士林地方法院民事執行處', '106年度司執春字第52191號', '1', '特別推薦']\n",
      "['J241070002', '107.02.26', '其他', '0', '臺灣士林地方法院民事執行處', '106年度司執春字第52191號', '1', '特別推薦']\n",
      "['J012060003', '106.08.04', '其他', '120,000', '桃園地院', '105年度司執字第59543號', '2']\n",
      "['J012050003', '106.08.01', '新北市三峽區二鬮路136巷20弄83號地下一層之1、2等', '其他', '地下層', '381.23', '199.55', '6,970,000', '行政執行署新北分署', '98年度營所稅執專字第143226', '3', '特別推薦']\n",
      "['J241050004', '105.03.17', '其他', '0.58', '6,201,600', '士林地院民事執行處', '104年度司執助春字第1738號', '4', '特別推薦']\n",
      "['J241050003', '105.03.10', '其他', '0.58', '6,201,600', '士林地院民事執行處', '104年度司執助春字第1738號', '3', '特別推薦']\n",
      "['J241050002', '105.01.21', '其他', '0', '臺灣士林地方法院民事執行處', '104年度司執助字第1738號', '2', '特別推薦']\n",
      "['J241050001', '105.01.21', '其他', '0.58', '7,562,000', '士林地院民事執行處', '104年度司執助字第1738號', '2', '特別推薦']\n"
     ]
    }
   ],
   "source": [
    "from bs4 import BeautifulSoup\n",
    "from selenium import webdriver\n",
    "from selenium.webdriver.support.ui import WebDriverWait\n",
    "from selenium.webdriver.support import expected_conditions\n",
    "from selenium.webdriver.common.by import By\n",
    "\n",
    "\n",
    "url = \"https://www2.bot.com.tw/house/\"\n",
    "try:\n",
    "    options = webdriver.ChromeOptions()\n",
    "    options.add_argument(\"--headless\")\n",
    "\n",
    "    driver = webdriver.Chrome(options=options, executable_path=\"chromedriver.exe\")\n",
    "    driver.set_page_load_timeout(60)\n",
    "    driver.get(url)\n",
    "    \n",
    "    # 定位日期輸入欄位，並輸入日期\n",
    "    element = driver.find_element_by_id(\"fromdate_TextBox\") # fromdate_TextBox是網站上\"起日\"欄位的名字\n",
    "    element.send_keys(\"1010101\") # 101/01/01\n",
    "    element = driver.find_element_by_id(\"todate_TextBox\") # fromdate_TextBox是網站上\"迄日\"欄位的名字\n",
    "    element.send_keys(\"1090101\") # 109/01/01\n",
    "    \n",
    "    # 選定選單索在欄位並點擊\n",
    "    driver.find_element_by_id(\"purpose_DDL\").click()\n",
    "    \n",
    "    # 巡覽選單，點擊對應選項\n",
    "    for option in driver.find_elements_by_tag_name(\"option\"):\n",
    "        if option.text == \"其他\":\n",
    "            option.click()\n",
    "            \n",
    "    #點擊送出按鈕\n",
    "    element = driver.find_element_by_id(\"Submit_Button\").click()\n",
    "    \n",
    "    #等待目標表格出現\n",
    "    element = WebDriverWait(driver, 5).until(\n",
    "        expected_conditions.presence_of_element_located((By.ID, \"House_GridView\"))\n",
    "    )\n",
    "    \n",
    "    # page_source 可以回傳目前瀏覽器所看到的網頁文件\n",
    "    soup = BeautifulSoup(driver.page_source, \"html5lib\")\n",
    "    table = soup.find(id = \"House_GridView\")\n",
    "    for row in table.find_all(\"tr\"):\n",
    "        print([s for s in row.stripped_strings])\n",
    "\n",
    "    next_page = soup.find(id = \"lblNextoneBottom\")\n",
    "    print(next_page.attrs)\n",
    "    while True:\n",
    "        if \"disabled\" in next_page.attrs: # attrs 為 \"find\"功能 之回應物件的屬性\n",
    "            break\n",
    "        else:\n",
    "            driver.find_element_by_id(\"lblNextoneBottom\").click()\n",
    "            soup = BeautifulSoup(driver.page_source, \"html5lib\")\n",
    "            table = soup.find(id = \"House_GridView\")\n",
    "            for row in table.find_all(\"tr\"):\n",
    "                print([s for s in row.stripped_strings])\n",
    "            next_page = soup.find(id = \"lblNextoneBottom\")\n",
    "finally:\n",
    "    driver.quit() # 關閉瀏覽器, 結束 webdriver process            "
   ]
  },
  {
   "cell_type": "code",
   "execution_count": null,
   "metadata": {},
   "outputs": [],
   "source": []
  },
  {
   "cell_type": "code",
   "execution_count": null,
   "metadata": {},
   "outputs": [],
   "source": []
  }
 ],
 "metadata": {
  "kernelspec": {
   "display_name": "Python 3",
   "language": "python",
   "name": "python3"
  },
  "language_info": {
   "codemirror_mode": {
    "name": "ipython",
    "version": 3
   },
   "file_extension": ".py",
   "mimetype": "text/x-python",
   "name": "python",
   "nbconvert_exporter": "python",
   "pygments_lexer": "ipython3",
   "version": "3.7.5"
  }
 },
 "nbformat": 4,
 "nbformat_minor": 2
}
