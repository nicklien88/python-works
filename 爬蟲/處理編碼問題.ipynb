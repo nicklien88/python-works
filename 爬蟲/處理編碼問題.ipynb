{
 "cells": [
  {
   "cell_type": "code",
   "execution_count": 11,
   "metadata": {},
   "outputs": [
    {
     "name": "stdout",
     "output_type": "stream",
     "text": [
      "title: 网页出现乱码，浏览器字体问题。\n",
      "content: 打开网页全是乱码，点击查看-编码，没有字体可以选择，只有两个选项“从左到右的文档”“从右到左的文档”。点击“Internet选项”，然后点击：“字体”，没有反应。请问怎么办？...\n"
     ]
    }
   ],
   "source": [
    "import csv\n",
    "import requests\n",
    "from bs4 import BeautifulSoup\n",
    "\n",
    "resp = requests.get(\"https://zhidao.baidu.com/question/48795122.html\")\n",
    "resp.encoding = \"gbk\"\n",
    "soup = BeautifulSoup(resp.text, \"html5lib\")\n",
    "title = soup.find(\"span\", \"ask-title\").text.strip()\n",
    "content = soup.find(\"span\", \"con\").text.strip().replace(\"\\n\", \"\")\n",
    "print(\"title:\", title)\n",
    "print(\"content:\", content)\n",
    "\n",
    "with open(title + \".txt\", \"w\", encoding=\"utf-8\") as f:\n",
    "    f.write(content)"
   ]
  },
  {
   "cell_type": "code",
   "execution_count": null,
   "metadata": {},
   "outputs": [],
   "source": []
  }
 ],
 "metadata": {
  "kernelspec": {
   "display_name": "Python 3",
   "language": "python",
   "name": "python3"
  },
  "language_info": {
   "codemirror_mode": {
    "name": "ipython",
    "version": 3
   },
   "file_extension": ".py",
   "mimetype": "text/x-python",
   "name": "python",
   "nbconvert_exporter": "python",
   "pygments_lexer": "ipython3",
   "version": "3.7.5"
  }
 },
 "nbformat": 4,
 "nbformat_minor": 2
}
