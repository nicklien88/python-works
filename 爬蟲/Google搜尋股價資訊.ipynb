{
 "cells": [
  {
   "cell_type": "code",
   "execution_count": 25,
   "metadata": {},
   "outputs": [
    {
     "name": "stdout",
     "output_type": "stream",
     "text": [
      "name 台灣積體電路製造TPE: 2330\n",
      "current_price 339.50 TWD\n",
      "current_change +0.50 (0.15%)\n",
      "開盤 344.00\n",
      "最高 345.00\n",
      "最低 335.50\n",
      "殖利率 2.65%\n",
      "上次收盤價 339.00\n",
      "52 週高點 345.00\n"
     ]
    }
   ],
   "source": [
    "import requests\n",
    "from bs4 import BeautifulSoup\n",
    "\n",
    "def get_web_page(url, stock_id):\n",
    "    headers = {\"User-Agent\":\"Mozilla/5.0 (Windows NT 10.0; Win64; x64) \\\n",
    "    AppleWebKit/537.36 (KHTML, like Gecko) \\\n",
    "    Chrome/79.0.3945.88 Safari/537.36\"}\n",
    "    resp = requests.get(url + stock_id, headers=headers)\n",
    "    if resp.status_code == 200:\n",
    "        return resp.text\n",
    "    else:\n",
    "        print(\"Invalid url:\", resp.url)\n",
    "        return None\n",
    "\n",
    "def get_stock_info(dom):\n",
    "    soup = BeautifulSoup(dom, \"html5lib\")\n",
    "    stock = dict()\n",
    "    \n",
    "    selections = soup.find_all(\"g-card-section\")\n",
    "               \n",
    "    #第2個 g-card-section, 取收公司名稱及即時股價資訊\n",
    "    stock[\"name\"] = selections[1].div.text\n",
    "    spans = selections[1].find_all(\"span\", recursive=False)\n",
    "    stock[\"current_price\"] = spans[0].text\n",
    "    stock[\"current_change\"] = spans[1].text\n",
    "               \n",
    "    #第4個 g-card-section, 有左右兩個 table 分別存放股票資訊\n",
    "    for table in selections[3].find_all(\"table\"):\n",
    "        for tr in table.find_all(\"tr\")[:3]:\n",
    "            key = tr.find_all(\"td\")[0].text.strip()\n",
    "            value = tr.find_all(\"td\")[1].text.strip()\n",
    "            stock[key] = value\n",
    "    return stock\n",
    "               \n",
    "# 主程式流程\n",
    "G_FINANCE_URL = \"https://www.google.com/search?q=\"\n",
    "page = get_web_page(G_FINANCE_URL, \"TPE:2330\")\n",
    "if page:\n",
    "    stock = get_stock_info(page)\n",
    "    for k,v in stock.items():\n",
    "        print(k,v)"
   ]
  }
 ],
 "metadata": {
  "kernelspec": {
   "display_name": "Python 3",
   "language": "python",
   "name": "python3"
  },
  "language_info": {
   "codemirror_mode": {
    "name": "ipython",
    "version": 3
   },
   "file_extension": ".py",
   "mimetype": "text/x-python",
   "name": "python",
   "nbconvert_exporter": "python",
   "pygments_lexer": "ipython3",
   "version": "3.7.5"
  }
 },
 "nbformat": 4,
 "nbformat_minor": 2
}
