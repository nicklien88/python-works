{
 "cells": [
  {
   "cell_type": "code",
   "execution_count": 33,
   "metadata": {},
   "outputs": [],
   "source": [
    "import sqlite3\n",
    "import csv\n",
    "\n",
    "def execute_db(fname, sql_cmd):\n",
    "    conn = sqlite3.connect(fname)\n",
    "    c = conn.cursor()\n",
    "    c.execute(sql_cmd)\n",
    "    conn.commit()\n",
    "    conn.close()\n",
    "    \n",
    "def select_db(fname, sql_cmd):\n",
    "    conn = sqlite3.connect(fname)\n",
    "    c = conn.cursor()\n",
    "    c.execute(sql_cmd)\n",
    "    rows = c.fetchall()\n",
    "    conn.close()\n",
    "    return rows"
   ]
  },
  {
   "cell_type": "code",
   "execution_count": 28,
   "metadata": {},
   "outputs": [],
   "source": [
    "# 刪除表格\n",
    "cmd = 'DROP TABLE record'\n",
    "execute_db(\"db.sqlite\", cmd)"
   ]
  },
  {
   "cell_type": "code",
   "execution_count": 29,
   "metadata": {},
   "outputs": [],
   "source": [
    "# 建立表格\n",
    "cmd = 'CREATE TABLE record (id INTEGER PRIMARY KEY AUTOINCREMENT, item TEXT, price INTEGER, shop TEXT)'\n",
    "execute_db(\"db.sqlite\", cmd)"
   ]
  },
  {
   "cell_type": "code",
   "execution_count": 30,
   "metadata": {},
   "outputs": [],
   "source": [
    "# 讀取 csv檔, 插入 sqlite 表格\n",
    "with open(\"ezprice.csv\", \"r\", encoding=\"utf-8\") as f:\n",
    "    reader = csv.DictReader(f)\n",
    "    for row in reader:\n",
    "        try:\n",
    "            cmd = \"INSERT INTO record (item, price, shop) VALUES ('%s', %d, '%s')\" % (row[\"品項\"], int(row[\"價格\"]), row[\"商家\"])\n",
    "            execute_db(\"db.sqlite\", cmd)\n",
    "        except:\n",
    "            print(row)"
   ]
  },
  {
   "cell_type": "code",
   "execution_count": 35,
   "metadata": {},
   "outputs": [
    {
     "name": "stdout",
     "output_type": "stream",
     "text": [
      "(102, '【AHEAD】超薄全屏 iPhone 11 pro/11 pro Max/X/Xs/Xs Max/XR 2.5D 防塵 防指紋 9H玻璃貼 保護貼 滿版 2.5D', 247, 'friDay購物')\n",
      "(373, 'APPLE iPhone 11 128G 手機', 26388, 'friDay購物')\n",
      "(414, '犀牛盾 iPhone 11 Pro Max (6.5吋) Solidsuit 防摔背蓋手機殼 - 經典', 621, 'friDay購物')\n",
      "(420, '犀牛盾 Apple iPhone 11 Pro (5.8吋) 新一代 MOD NX 邊框背蓋兩用殼', 680, 'friDay購物')\n",
      "(434, '犀牛盾 Apple iPhone 11 Pro Max (6.5吋) 新一代 MOD NX 邊框背蓋兩用殼', 680, 'friDay購物')\n",
      "(435, '犀牛盾 iPhone 11 Pro(5.8吋) Solidsuit 防摔背蓋手機殼 - 碳纖維', 706, 'friDay購物')\n",
      "(436, '犀牛盾 iPhone 11 (6.1吋) Solidsuit 防摔背蓋手機殼 - 碳纖維', 706, 'friDay購物')\n"
     ]
    }
   ],
   "source": [
    "# 查詢功能\n",
    "db_name = \"db.sqlite\"\n",
    "cmd = \"SELECT * FROM record WHERE shop='friDay購物'\"\n",
    "for row in select_db(db_name, cmd):\n",
    "    print(row)"
   ]
  },
  {
   "cell_type": "code",
   "execution_count": null,
   "metadata": {},
   "outputs": [],
   "source": []
  }
 ],
 "metadata": {
  "kernelspec": {
   "display_name": "Python 3",
   "language": "python",
   "name": "python3"
  },
  "language_info": {
   "codemirror_mode": {
    "name": "ipython",
    "version": 3
   },
   "file_extension": ".py",
   "mimetype": "text/x-python",
   "name": "python",
   "nbconvert_exporter": "python",
   "pygments_lexer": "ipython3",
   "version": "3.7.5"
  }
 },
 "nbformat": 4,
 "nbformat_minor": 2
}
