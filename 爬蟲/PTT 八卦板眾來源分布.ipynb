{
 "cells": [
  {
   "cell_type": "code",
   "execution_count": 1,
   "metadata": {},
   "outputs": [],
   "source": [
    "import re\n",
    "import requests\n",
    "import time\n",
    "from bs4 import BeautifulSoup\n",
    "\n",
    "\n",
    "def get_web_page(url):\n",
    "    resp = requests.get(\n",
    "        url = url, \n",
    "        cookies = {\"over18\":\"1\"}\n",
    "    )\n",
    "    if resp.status_code != 200:\n",
    "        print('Invalid url:',resp.url)\n",
    "        return None\n",
    "    else:\n",
    "        return resp.text"
   ]
  },
  {
   "cell_type": "code",
   "execution_count": 2,
   "metadata": {},
   "outputs": [],
   "source": [
    "def get_articles(dom, date):\n",
    "    soup = BeautifulSoup(dom, \"html5lib\")\n",
    "    prev_div = soup.find(\"div\", \"btn-group btn-group-paging\")\n",
    "    prev_url = prev_div.find_all(\"a\")[1][\"href\"]\n",
    "    \n",
    "    articles = []\n",
    "    divs = soup.find_all(\"div\", \"r-ent\")\n",
    "    for div in divs:\n",
    "        if div.find(\"div\", \"date\").text.strip() == date:\n",
    "            push_count = 0\n",
    "            push_str = div.find(\"div\", \"nrec\").text\n",
    "            if push_str:\n",
    "                try:\n",
    "                    push_count = int(push_str)\n",
    "                except ValueError:\n",
    "                    if push_str == \"爆\":\n",
    "                        push_count = 99\n",
    "                    elif push_str.startswith(\"X\"):\n",
    "                        push_count = -10\n",
    "            if div.find(\"a\"):\n",
    "                title = div.find(\"a\").text\n",
    "                href = div.find(\"a\")[\"href\"]\n",
    "                author = div.find(\"div\", \"author\").text if div.find(\"div\", \"author\") else \"\"\n",
    "                articles.append({\n",
    "                    \"title\":title,\n",
    "                    \"href\":href,\n",
    "                    \"push_count\":push_count,\n",
    "                    \"author\":author\n",
    "                })\n",
    "    return articles, prev_url"
   ]
  },
  {
   "cell_type": "code",
   "execution_count": 3,
   "metadata": {},
   "outputs": [],
   "source": [
    "def get_ip(dom):\n",
    "    pattern = \"來自: \\d+\\.\\d+\\.\\d+\\.\\d+\"\n",
    "    match = re.search(pattern, dom)\n",
    "    if match:\n",
    "        return match.group(0).replace(\"來自: \", \"\")\n",
    "    else:\n",
    "        return None"
   ]
  },
  {
   "cell_type": "code",
   "execution_count": 4,
   "metadata": {},
   "outputs": [],
   "source": [
    "API_KEY = \"8cf2ec9868b0dba1c1b18b3bdc39aff3\"\n",
    "\n",
    "def get_country(ip):\n",
    "    if ip:\n",
    "        url = \"http://api.ipstack.com/{}?access_key={}\".format(ip, API_KEY)\n",
    "        data = requests.get(url).json()\n",
    "        country_name = data[\"country_name\"] if data[\"country_name\"] else None\n",
    "        return country_name\n",
    "    return None"
   ]
  },
  {
   "cell_type": "code",
   "execution_count": 5,
   "metadata": {},
   "outputs": [
    {
     "name": "stdout",
     "output_type": "stream",
     "text": [
      "取得今日文章列表...\n"
     ]
    }
   ],
   "source": [
    "print(\"取得今日文章列表...\")\n",
    "PTT_URL = \"https://www.ptt.cc\"\n",
    "current_page = get_web_page(PTT_URL + \"/bbs/Gossiping/index.html\")\n",
    "if current_page:\n",
    "    articles = [] #全部的今日文章\n",
    "    # 今日日期, 去掉開頭的 \"0\" 以符合 ptt 的日期格式\n",
    "    today = time.strftime(\"%m/%d\").lstrip(\"0\")\n",
    "    # 目前頁面的今日文章\n",
    "    current_articles, prev_url = get_articles(current_page, today)\n",
    "    while current_articles:\n",
    "        articles += current_articles\n",
    "        current_page = get_web_page(PTT_URL + prev_url)\n",
    "        current_articles, prev_url = get_articles(current_page, today)\n",
    "    for article in articles[:100]:\n",
    "        print(article)\n",
    "    \n",
    "    print(\"取得前100篇文章IP\")\n",
    "    country_to_count = dict()\n",
    "    for article in articles[:100]:\n",
    "        print(\"查詢IP:\", article[\"title\"])\n",
    "        page = get_web_page(PTT_URL + article[\"href\"])\n",
    "        if page:\n",
    "            author_ip = get_ip(page)\n",
    "            author_country = get_country(author_ip)\n",
    "            if author_country not in country_to_count.keys():\n",
    "                country_to_count[author_country] = 1\n",
    "            else:\n",
    "                country_to_count[author_country] += 1\n",
    "    \n",
    "    # 印出各國IP次數資訊\n",
    "    print(\"------------------------------\")\n",
    "    print(\"各國IP分布\")\n",
    "    for k, v in country_to_count.items():\n",
    "        print(k, v)\n",
    "    \n"
   ]
  },
  {
   "cell_type": "code",
   "execution_count": null,
   "metadata": {},
   "outputs": [],
   "source": []
  },
  {
   "cell_type": "code",
   "execution_count": null,
   "metadata": {},
   "outputs": [],
   "source": []
  }
 ],
 "metadata": {
  "kernelspec": {
   "display_name": "Python 3",
   "language": "python",
   "name": "python3"
  },
  "language_info": {
   "codemirror_mode": {
    "name": "ipython",
    "version": 3
   },
   "file_extension": ".py",
   "mimetype": "text/x-python",
   "name": "python",
   "nbconvert_exporter": "python",
   "pygments_lexer": "ipython3",
   "version": "3.7.5"
  }
 },
 "nbformat": 4,
 "nbformat_minor": 2
}
