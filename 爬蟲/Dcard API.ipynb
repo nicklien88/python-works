{
 "cells": [
  {
   "cell_type": "code",
   "execution_count": 8,
   "metadata": {},
   "outputs": [
    {
     "name": "stdout",
     "output_type": "stream",
     "text": [
      "共 5, 150 文章\n",
      "第 1 篇:\n",
      "id: 232854672\n",
      "title: 📣 1/11 Dcard 大選開票直播聊天室上線！feat. Dcard 小編\n",
      "excerpt: 2020 剛開始不久，馬上迎來台灣今年最重要的日子之一：總統立委大選。大家都買好回家的車票，準備好投票了嗎？為了讓卡友們可以更深入、更即時的討論總統大選，Dcard 特別緊急設立了直播聊天室，陪大家一\n",
      "likeCount: 4419\n",
      "commentCount: 887\n",
      "href: https://www.dcard.tw/f/trending/p/232854672\n",
      "第 31 篇:\n",
      "id: 232858748\n",
      "title: BLACKPINK ROSÉ呼籲關注澳洲山火！\n",
      "excerpt: 9日下午ROSÉ在個人IG用全英文PO文：「當我看到這個我心碎了，澳洲發生火災並且持續很久了。人們和房屋經受著山火損害，數百萬的無辜和野生動物受傷或死亡，我心都碎了。澳洲是我成長的地方，我很傷心看到這\n",
      "likeCount: 1014\n",
      "commentCount: 72\n",
      "href: https://www.dcard.tw/f/entertainer/p/232858748\n",
      "第 150 篇:\n",
      "id: 232864041\n",
      "title: 過年什麼都要買😭，逛網拍好累？好物研究室網羅穿搭、彩妝、美食、保養...多款福袋讓妳一次購足❤️\n",
      "excerpt: \n",
      "likeCount: 100\n",
      "commentCount: 0\n",
      "href: https://www.dcard.tw/f/girl/p/232864041\n"
     ]
    }
   ],
   "source": [
    "import requests\n",
    "\n",
    "DCARD_URL = \"https://www.dcard.tw\"\n",
    "\n",
    "def show(post):\n",
    "    for key in [\"id\", \"title\", \"excerpt\", \"likeCount\", \"commentCount\"]:\n",
    "        print(\"%s: %s\" % (key, post[key]))\n",
    "    print(\"href: %s/f/%s/p/%s\" % (DCARD_URL, post[\"forumAlias\"], post[\"id\"]))\n",
    "    \n",
    "DCARD_URL = \"https://www.dcard.tw\"\n",
    "DCARD_API = DCARD_URL + \"/_api/posts?popular=true\"\n",
    "\n",
    "num_page = 5\n",
    "posts = list(requests.get(DCARD_API).json())\n",
    "for i in range(1, num_page):\n",
    "    id_last_post = posts[-1][\"id\"] #最後一篇文章的 ID, 用以取得下30篇文章\n",
    "    posts += list(requests.get(DCARD_API + \"&limit=30&before=\" + str(id_last_post)).json())\n",
    "    \n",
    "print(\"共 %d, %d 文章\" % (num_page, len(posts)))\n",
    "print(\"第 1 篇:\")\n",
    "show(posts[0])\n",
    "print(\"第 31 篇:\")\n",
    "show(posts[30])\n",
    "print(\"第 %d 篇:\" % len(posts))\n",
    "show(posts[-1])"
   ]
  },
  {
   "cell_type": "code",
   "execution_count": null,
   "metadata": {},
   "outputs": [],
   "source": []
  }
 ],
 "metadata": {
  "kernelspec": {
   "display_name": "Python 3",
   "language": "python",
   "name": "python3"
  },
  "language_info": {
   "codemirror_mode": {
    "name": "ipython",
    "version": 3
   },
   "file_extension": ".py",
   "mimetype": "text/x-python",
   "name": "python",
   "nbconvert_exporter": "python",
   "pygments_lexer": "ipython3",
   "version": "3.7.5"
  }
 },
 "nbformat": 4,
 "nbformat_minor": 2
}
